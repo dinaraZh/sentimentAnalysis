{
  "nbformat": 4,
  "nbformat_minor": 0,
  "metadata": {
    "colab": {
      "name": "Kinopoisk_sentimentAnalysis_ml_dl.ipynb",
      "provenance": [],
      "collapsed_sections": [],
      "authorship_tag": "ABX9TyOXOR7OR+wmmeuEdW3e+aww",
      "include_colab_link": true
    },
    "kernelspec": {
      "name": "python3",
      "display_name": "Python 3"
    }
  },
  "cells": [
    {
      "cell_type": "markdown",
      "metadata": {
        "id": "view-in-github",
        "colab_type": "text"
      },
      "source": [
        "<a href=\"https://colab.research.google.com/github/dinaraZh/sentimentAnalysis/blob/main/Kinopoisk_sentimentAnalysis_ml_dl.ipynb\" target=\"_parent\"><img src=\"https://colab.research.google.com/assets/colab-badge.svg\" alt=\"Open In Colab\"/></a>"
      ]
    },
    {
      "cell_type": "markdown",
      "metadata": {
        "id": "vZVrOv_7j7Bf"
      },
      "source": [
        "Задача: Нужно классифицировать отзывы по заданным категориям - положительные (good), нейтральные (neutral) и негативные (bad).\n",
        "Данную задачу классификации я решила с 2 способами: преобразование TF-idf + классический классификатор машинного обучения, нейронные сети(LSTM) с векторным представлением слов."
      ]
    },
    {
      "cell_type": "markdown",
      "metadata": {
        "id": "JtnxXv02qKZ9"
      },
      "source": [
        "\n",
        "**1. Импортирование нужных библиотек**"
      ]
    },
    {
      "cell_type": "code",
      "metadata": {
        "id": "ZNAHF3hUwKub"
      },
      "source": [
        "import pandas as pd\n",
        "import numpy as np\n",
        "import random\n",
        "import itertools\n",
        "from sklearn import metrics # for the check the error and accuracy of the model\n",
        "from sklearn.feature_extraction.text import TfidfVectorizer\n",
        "from sklearn.model_selection import train_test_split\n",
        "from sklearn.pipeline import Pipeline\n",
        "from sklearn.linear_model import LogisticRegression\n",
        "from sklearn.svm import LinearSVC\n",
        "import matplotlib.pyplot as plt\n",
        "%matplotlib inline\n",
        "\n",
        "\n",
        "from sklearn.preprocessing import LabelEncoder\n",
        "from keras.utils import np_utils\n",
        "from keras.preprocessing.text import Tokenizer\n",
        "from keras.preprocessing.sequence import pad_sequences\n",
        "from keras.models import Sequential\n",
        "from keras.layers import Embedding, LSTM, Dense, Dropout\n",
        " "
      ],
      "execution_count": null,
      "outputs": []
    },
    {
      "cell_type": "markdown",
      "metadata": {
        "id": "YWTuKg5Fqdnv"
      },
      "source": [
        "**2.Загрузка и просмотр данных**"
      ]
    },
    {
      "cell_type": "code",
      "metadata": {
        "id": "nAg9y3RIqneF",
        "colab": {
          "base_uri": "https://localhost:8080/",
          "height": 289
        },
        "outputId": "0b4ef0c8-ccfe-455c-a166-63ae42b244d6"
      },
      "source": [
        "df=pd.read_excel(\"/content/reviews.xlsx\", converters={\"review_text\":str,\"review_subtitle\":str},header=0,na_filter=False)\n",
        "df.head()\n",
        "#must be str, not int"
      ],
      "execution_count": null,
      "outputs": [
        {
          "output_type": "execute_result",
          "data": {
            "text/html": [
              "<div>\n",
              "<style scoped>\n",
              "    .dataframe tbody tr th:only-of-type {\n",
              "        vertical-align: middle;\n",
              "    }\n",
              "\n",
              "    .dataframe tbody tr th {\n",
              "        vertical-align: top;\n",
              "    }\n",
              "\n",
              "    .dataframe thead th {\n",
              "        text-align: right;\n",
              "    }\n",
              "</style>\n",
              "<table border=\"1\" class=\"dataframe\">\n",
              "  <thead>\n",
              "    <tr style=\"text-align: right;\">\n",
              "      <th></th>\n",
              "      <th>target</th>\n",
              "      <th>movie_link</th>\n",
              "      <th>author_id</th>\n",
              "      <th>author_name</th>\n",
              "      <th>review_subtitle</th>\n",
              "      <th>review_text</th>\n",
              "    </tr>\n",
              "  </thead>\n",
              "  <tbody>\n",
              "    <tr>\n",
              "      <th>0</th>\n",
              "      <td>good</td>\n",
              "      <td>/film/178563/</td>\n",
              "      <td>/user/311869/</td>\n",
              "      <td>sochi2014</td>\n",
              "      <td></td>\n",
              "      <td>Настоящее кино. Наше кино. Прекрасная работа с...</td>\n",
              "    </tr>\n",
              "    <tr>\n",
              "      <th>1</th>\n",
              "      <td>good</td>\n",
              "      <td>/film/178563/</td>\n",
              "      <td>/user/1591566/</td>\n",
              "      <td>Альберт Попов</td>\n",
              "      <td>Предтеча многого</td>\n",
              "      <td>Мало того, что сериал «Империя под ударом» (12...</td>\n",
              "    </tr>\n",
              "    <tr>\n",
              "      <th>2</th>\n",
              "      <td>good</td>\n",
              "      <td>/film/178563/</td>\n",
              "      <td>/user/331395/</td>\n",
              "      <td>LennoxL</td>\n",
              "      <td>Срез жизни общества начала 20 го века</td>\n",
              "      <td>Период от реформ Александра Освободителя до пе...</td>\n",
              "    </tr>\n",
              "    <tr>\n",
              "      <th>3</th>\n",
              "      <td>good</td>\n",
              "      <td>/film/178563/</td>\n",
              "      <td>/user/4379604/</td>\n",
              "      <td>Ana_K</td>\n",
              "      <td>Пусть мир погибнет, но восторжествует правосудие</td>\n",
              "      <td>Атмосферный сериал о Российской Империи начала...</td>\n",
              "    </tr>\n",
              "    <tr>\n",
              "      <th>4</th>\n",
              "      <td>neutral</td>\n",
              "      <td>/film/178563/</td>\n",
              "      <td>/user/178788/</td>\n",
              "      <td>Skept</td>\n",
              "      <td>Террор  Зло с непредсказуемыми последствиями</td>\n",
              "      <td>Самая большая беда современного общества это т...</td>\n",
              "    </tr>\n",
              "  </tbody>\n",
              "</table>\n",
              "</div>"
            ],
            "text/plain": [
              "    target  ...                                        review_text\n",
              "0     good  ...  Настоящее кино. Наше кино. Прекрасная работа с...\n",
              "1     good  ...  Мало того, что сериал «Империя под ударом» (12...\n",
              "2     good  ...  Период от реформ Александра Освободителя до пе...\n",
              "3     good  ...  Атмосферный сериал о Российской Империи начала...\n",
              "4  neutral  ...  Самая большая беда современного общества это т...\n",
              "\n",
              "[5 rows x 6 columns]"
            ]
          },
          "metadata": {
            "tags": []
          },
          "execution_count": 2
        }
      ]
    },
    {
      "cell_type": "code",
      "metadata": {
        "id": "nUnt2xcvVc4m",
        "colab": {
          "base_uri": "https://localhost:8080/",
          "height": 238
        },
        "outputId": "ed89f2a6-410d-4aec-968a-cac50d78c144"
      },
      "source": [
        "df.info()"
      ],
      "execution_count": null,
      "outputs": [
        {
          "output_type": "stream",
          "text": [
            "<class 'pandas.core.frame.DataFrame'>\n",
            "RangeIndex: 80284 entries, 0 to 80283\n",
            "Data columns (total 6 columns):\n",
            " #   Column           Non-Null Count  Dtype \n",
            "---  ------           --------------  ----- \n",
            " 0   target           80284 non-null  object\n",
            " 1   movie_link       80284 non-null  object\n",
            " 2   author_id        80284 non-null  object\n",
            " 3   author_name      80284 non-null  object\n",
            " 4   review_subtitle  80284 non-null  object\n",
            " 5   review_text      80284 non-null  object\n",
            "dtypes: object(6)\n",
            "memory usage: 3.7+ MB\n"
          ],
          "name": "stdout"
        }
      ]
    },
    {
      "cell_type": "code",
      "metadata": {
        "id": "7ngGFqrYt4l6",
        "colab": {
          "base_uri": "https://localhost:8080/",
          "height": 414
        },
        "outputId": "69e8d61f-423b-40d9-ca76-c9e802e8798a"
      },
      "source": [
        "gr=plt.figure(figsize=(9,6))\n",
        "df.groupby('target').target.count().plot.bar(ylim=0)\n",
        "plt.show()"
      ],
      "execution_count": null,
      "outputs": [
        {
          "output_type": "display_data",
          "data": {
            "image/png": "[encoded data removed]",
            "text/plain": [
              "<Figure size 648x432 with 1 Axes>"
            ]
          },
          "metadata": {
            "tags": [],
            "needs_background": "light"
          }
        }
      ]
    },
    {
      "cell_type": "markdown",
      "metadata": {
        "id": "2-AQviJJxNQf"
      },
      "source": [
        "**3.Разделение датасета на training and testing**"
      ]
    },
    {
      "cell_type": "code",
      "metadata": {
        "id": "i2jLO4bqxFpI",
        "colab": {
          "base_uri": "https://localhost:8080/",
          "height": 51
        },
        "outputId": "60727909-6879-4d10-a1da-3edf1a2d243c"
      },
      "source": [
        "df[\"whole_review\"]=df[\"review_subtitle\"] + \" \" +df[\"review_text\"] #объединяем текс и подзаголовок как один целый отзыв\n",
        "\n",
        "df['target'] = df['target'].factorize()[0] # заменяем метку в цифру {good:0, neutral:1, bad:2 }\n",
        "X=df[\"whole_review\"]\n",
        "y=df[\"target\"]# модель будет строиться по определению target\n",
        "\n",
        "X_train, X_test, y_train, y_test= train_test_split(X,y, test_size=0.2, random_state=1, shuffle=True)\n",
        "print(\"Training set: \", len(X_train))\n",
        "print(\"Testing set: \", len(X_test))"
      ],
      "execution_count": null,
      "outputs": [
        {
          "output_type": "stream",
          "text": [
            "Training set:  64227\n",
            "Testing set:  16057\n"
          ],
          "name": "stdout"
        }
      ]
    },
    {
      "cell_type": "markdown",
      "metadata": {
        "id": "s-mLR37y3v5s"
      },
      "source": [
        "**4.Обучение TF-IDF+LogisticRegression**"
      ]
    },
    {
      "cell_type": "code",
      "metadata": {
        "id": "vXDJ861s9GQy"
      },
      "source": [
        "MAX_DF = 0.8 \n",
        "MIN_DF = 5\n",
        "class_weight={0:1,1:6,2:8.5}\n",
        "\n",
        "pipeline = Pipeline((('vec', TfidfVectorizer(max_df=MAX_DF,min_df=MIN_DF,norm='l2',ngram_range=(1, 2))),\n",
        "                             ('cls', LogisticRegression(solver='lbfgs',max_iter=10000,class_weight=class_weight) )))\n"
      ],
      "execution_count": null,
      "outputs": []
    },
    {
      "cell_type": "code",
      "metadata": {
        "id": "KW9sHHwWfds2",
        "colab": {
          "base_uri": "https://localhost:8080/",
          "height": 408
        },
        "outputId": "9590f841-bd09-4309-e9b7-672305f49352"
      },
      "source": [
        "pipeline.fit(X_train, y_train)"
      ],
      "execution_count": null,
      "outputs": [
        {
          "output_type": "execute_result",
          "data": {
            "text/plain": [
              "Pipeline(memory=None,\n",
              "         steps=[('vec',\n",
              "                 TfidfVectorizer(analyzer='word', binary=False,\n",
              "                                 decode_error='strict',\n",
              "                                 dtype=<class 'numpy.float64'>,\n",
              "                                 encoding='utf-8', input='content',\n",
              "                                 lowercase=True, max_df=0.8, max_features=None,\n",
              "                                 min_df=5, ngram_range=(1, 2), norm='l2',\n",
              "                                 preprocessor=None, smooth_idf=True,\n",
              "                                 stop_words=None, strip_accents=None,\n",
              "                                 sublinear_tf=False,\n",
              "                                 token_pattern='(?u)\\\\b\\\\w\\\\w+\\\\b',\n",
              "                                 tokenizer=None, use_idf=True,\n",
              "                                 vocabulary=None)),\n",
              "                ('cls',\n",
              "                 LogisticRegression(C=1.0, class_weight={0: 1, 1: 6, 2: 8.5},\n",
              "                                    dual=False, fit_intercept=True,\n",
              "                                    intercept_scaling=1, l1_ratio=None,\n",
              "                                    max_iter=10000, multi_class='auto',\n",
              "                                    n_jobs=None, penalty='l2',\n",
              "                                    random_state=None, solver='lbfgs',\n",
              "                                    tol=0.0001, verbose=0, warm_start=False))],\n",
              "         verbose=False)"
            ]
          },
          "metadata": {
            "tags": []
          },
          "execution_count": 9
        }
      ]
    },
    {
      "cell_type": "markdown",
      "metadata": {
        "id": "hsAFccZkLm1S"
      },
      "source": [
        "**5.Оценка качества модели TF-IDF+Logistic Regession/LinearSVC**"
      ]
    },
    {
      "cell_type": "code",
      "metadata": {
        "id": "svFsyqipa5c1",
        "colab": {
          "base_uri": "https://localhost:8080/",
          "height": 221
        },
        "outputId": "0bdf7473-8a43-4008-d75a-19196ea8b618"
      },
      "source": [
        "y_train_pred = pipeline.predict(X_train)\n",
        "print(\"Logistic Regression train score - \" + str(pipeline.score(X_train, y_train)))\n",
        "print()\n",
        "print(metrics.classification_report(y_train, y_train_pred, digits=3))"
      ],
      "execution_count": null,
      "outputs": [
        {
          "output_type": "stream",
          "text": [
            "Logistic Regression train score - 0.9755554517570492\n",
            "\n",
            "              precision    recall  f1-score   support\n",
            "\n",
            "           0      1.000     0.967     0.983     48140\n",
            "           1      0.884     1.000     0.939     10235\n",
            "           2      0.962     1.000     0.981      5852\n",
            "\n",
            "    accuracy                          0.976     64227\n",
            "   macro avg      0.949     0.989     0.968     64227\n",
            "weighted avg      0.978     0.976     0.976     64227\n",
            "\n"
          ],
          "name": "stdout"
        }
      ]
    },
    {
      "cell_type": "code",
      "metadata": {
        "id": "8d5Yx1Qta_47",
        "colab": {
          "base_uri": "https://localhost:8080/",
          "height": 221
        },
        "outputId": "f8a6f874-9541-4dc1-d9ef-842e94f9d487"
      },
      "source": [
        "y_test_pred = pipeline.predict(X_test)\n",
        "print(\"Logistic Regression test score - \" + str(pipeline.score(X_test, y_test)))\n",
        "print()\n",
        "print(metrics.classification_report(y_test, y_test_pred, digits=3))"
      ],
      "execution_count": null,
      "outputs": [
        {
          "output_type": "stream",
          "text": [
            "Logistic Regression test score - 0.848228187083515\n",
            "\n",
            "              precision    recall  f1-score   support\n",
            "\n",
            "           0      0.938     0.897     0.917     12049\n",
            "           1      0.555     0.667     0.606      2579\n",
            "           2      0.759     0.765     0.762      1429\n",
            "\n",
            "    accuracy                          0.848     16057\n",
            "   macro avg      0.751     0.776     0.762     16057\n",
            "weighted avg      0.861     0.848     0.853     16057\n",
            "\n"
          ],
          "name": "stdout"
        }
      ]
    },
    {
      "cell_type": "markdown",
      "metadata": {
        "id": "9Qkk15_Bu7ku"
      },
      "source": [
        "**4.LSTM**"
      ]
    },
    {
      "cell_type": "code",
      "metadata": {
        "id": "XKnkANv5xTui",
        "colab": {
          "base_uri": "https://localhost:8080/",
          "height": 232
        },
        "outputId": "c15e29a6-b07a-4a26-e84a-fff6979e612a"
      },
      "source": [
        "#Кодирование--Label to Vector\n",
        "encoder = LabelEncoder()\n",
        "encoder.fit(y)\n",
        "encoded_y = encoder.transform(y)\n",
        "\n",
        "Y = np_utils.to_categorical(encoded_y)"
      ],
      "execution_count": null,
      "outputs": [
        {
          "output_type": "error",
          "ename": "NameError",
          "evalue": "ignored",
          "traceback": [
            "\u001b[0;31m---------------------------------------------------------------------------\u001b[0m",
            "\u001b[0;31mNameError\u001b[0m                                 Traceback (most recent call last)",
            "\u001b[0;32m<ipython-input-1-3cf21b863f9b>\u001b[0m in \u001b[0;36m<module>\u001b[0;34m()\u001b[0m\n\u001b[1;32m      1\u001b[0m \u001b[0;31m#Кодирование--Label to Vector\u001b[0m\u001b[0;34m\u001b[0m\u001b[0;34m\u001b[0m\u001b[0;34m\u001b[0m\u001b[0m\n\u001b[0;32m----> 2\u001b[0;31m \u001b[0mencoder\u001b[0m \u001b[0;34m=\u001b[0m \u001b[0mLabelEncoder\u001b[0m\u001b[0;34m(\u001b[0m\u001b[0;34m)\u001b[0m\u001b[0;34m\u001b[0m\u001b[0;34m\u001b[0m\u001b[0m\n\u001b[0m\u001b[1;32m      3\u001b[0m \u001b[0mencoder\u001b[0m\u001b[0;34m.\u001b[0m\u001b[0mfit\u001b[0m\u001b[0;34m(\u001b[0m\u001b[0my\u001b[0m\u001b[0;34m)\u001b[0m\u001b[0;34m\u001b[0m\u001b[0;34m\u001b[0m\u001b[0m\n\u001b[1;32m      4\u001b[0m \u001b[0mencoded_y\u001b[0m \u001b[0;34m=\u001b[0m \u001b[0mencoder\u001b[0m\u001b[0;34m.\u001b[0m\u001b[0mtransform\u001b[0m\u001b[0;34m(\u001b[0m\u001b[0my\u001b[0m\u001b[0;34m)\u001b[0m\u001b[0;34m\u001b[0m\u001b[0;34m\u001b[0m\u001b[0m\n\u001b[1;32m      5\u001b[0m \u001b[0;34m\u001b[0m\u001b[0m\n",
            "\u001b[0;31mNameError\u001b[0m: name 'LabelEncoder' is not defined"
          ]
        }
      ]
    },
    {
      "cell_type": "code",
      "metadata": {
        "id": "KLTNqOzbyBrw"
      },
      "source": [
        "#токенизация\n",
        "tk = Tokenizer(lower = True)"
      ],
      "execution_count": null,
      "outputs": []
    },
    {
      "cell_type": "code",
      "metadata": {
        "id": "EpC9TzhDyK11"
      },
      "source": [
        "tk.fit_on_texts(X)"
      ],
      "execution_count": null,
      "outputs": []
    },
    {
      "cell_type": "code",
      "metadata": {
        "id": "KNgytiGyyiUw",
        "colab": {
          "base_uri": "https://localhost:8080/",
          "height": 54
        },
        "outputId": "0f76186b-ba18-45cb-cccb-3a41a1f20cdb"
      },
      "source": [
        "out = dict(itertools.islice(tk.word_counts.items(), 10))\n",
        "print(\"Словарь :\"+str(out))"
      ],
      "execution_count": null,
      "outputs": [
        {
          "output_type": "stream",
          "text": [
            "Словарь :{'настоящее': 1754, 'кино': 35388, 'наше': 1225, 'прекрасная': 1741, 'работа': 8359, 'сценариста': 793, 'режиссёра': 2484, 'операторов': 184, 'профессиональный': 212, 'монтаж': 907}\n"
          ],
          "name": "stdout"
        }
      ]
    },
    {
      "cell_type": "code",
      "metadata": {
        "id": "v9MK5VlayshY"
      },
      "source": [
        "#Преобразование в числовое представление\n",
        "X_seq = tk.texts_to_sequences(X)"
      ],
      "execution_count": null,
      "outputs": []
    },
    {
      "cell_type": "code",
      "metadata": {
        "id": "oi0HKmiay5Pt"
      },
      "source": [
        "#Огрничение длины \n",
        "MAX_LEN_SENTENCES=100\n",
        "X_pad = pad_sequences(X_seq, maxlen=MAX_LEN_SENTENCES, padding='post')"
      ],
      "execution_count": null,
      "outputs": []
    },
    {
      "cell_type": "code",
      "metadata": {
        "id": "ma5pb6dcy6vw",
        "colab": {
          "base_uri": "https://localhost:8080/",
          "height": 292
        },
        "outputId": "3cac732d-4d08-4ee7-9cba-bd37b6b6ccf3"
      },
      "source": [
        "index = 1\n",
        "print(X[index])\n",
        "print(X_pad[index])"
      ],
      "execution_count": null,
      "outputs": [
        {
          "output_type": "stream",
          "text": [
            "Предтеча многого Мало того, что сериал «Империя под ударом» (12 серий по 45-50 мин., по «делу» на серию») сам по себе, на удивление, хорош и серьёзен, особенно памятуя то непростое время смены столетий и власти в России (ушёл Ельцин, пришёл Путин, уходили бандитские 90-е, восстанавливался, как мог, законопорядок), так он ещё и, вскоре став культовым, послужил предтечей многих последующих телесериальных работ. Но главное- он, наряду с некоторыми другими лентами, дал нам понять, что в современной России, при желании, терпении, старании и соответственном финансовом вливании, можно и нужно создавать не многосерийную мишуру, а вполне настоящее, только «длинное» Кино для телезрителей. Которое хочется пересматривать ещё и ещё и которое даёт пищу и для эмоций, и для души, и для ума. Особое же спасибо нашей «Империи» за привлечение зрительского внимания к российской истории 19-20-го веков (и к самой тамошней жизни, почему мы уже более 15 лет с удовольствием смотрим и детективы, и мелодрамы «из той поры»), о которой, оказывается, мы так мало знаем, да и то в однобоко-коммунистической трактовке советских учебников. Теперь же нам демократично предоставляют возможность взглянуть на события и факты с другой стороны, слова (ударение на «о») которой не предоставляли почти 70 лет после Великой Октябрьской социалистической революции (Кстати, в 2017-м году этому судьбоносному для нашей страны событию исполняется 100 лет!!! Отличный повод Объективно (!) осветить его значение и последствия на теле- и киноэкранах!). Но нам этого мало, потому и я, и другие заинтригованные зрители, посмотрев очередной «исторический» сериал или фильм (даже о «Руси Изначальной»), начинаем лихорадочно рыскать в книгах, Википедии и т. д. в стремлении к Истине, по пути к ней обогащая себя новыми знаниями и обнаруживая ошибки и неточности в увиденном. И это просто здорово! Ведь Искусство, помимо всего прочего, ещё и побуждает человека к Поиску, иногда даже самого себя\n",
            "\r\n",
            " Ого, сколько я тут наваял разной «философии»! Давно пора перейти к конкретике. Начну, с вашего позволения. Как мне уверенно думается, суперидея «Империи под ударом» состоит в том, что, не будь российское имперское (в том числе сыскное) начальство столь по-русски беспечным, порой даже благодушным (\"ну кому я что сделал, чтобы меня взрывать?»), многие из него остались бы как минимум живы (другой вопрос- заслужили ли они смерть своими деяниями или нет?), а как максимум- сохранилось бы спокойствие в обществе, которое в начале прошлого века стремительно эволюционировало в сторону демократизации и «приемлемого капитализма». Увы, жестких прагматиков вроде начальника Особого отдела «Охранки» (сиречь жандармерии) Путиловского властители либо слушали вполуха, либо вообще игнорировали и погибали под эсеровскими бомбами и пулями. Редкие из них смогли сказать сыщику: «А ведь вы были правы» Тому же, но через «шпионства», посвящён и последующий, также масштабный и суровый сериал «Гибель Империи» (2005), и уж совсем рядом стоит только что просмотренная мною (с рецензией) «Секретная служба Его Величества» (2006), которую рекомендую посмотреть вслед за «Империей», а потом уже и «Гибель»- по хронологии событий! А теперь обратим внимание на врагов. В «Гибели» и в «Секретной службе» бьются царская «охранка» в разных видах с одной стороны, с другой- боевая организация партии эсеров (кто не знает- партии социалистов-революционеров), а потом и «отколовшиеся» эсеры-максималисты, все они убеждённые террористы, бомбисты и «стреляльщики». По большому счёту, враги достойны друг друга: «царские» глупцы да ротозеи, за исключением отдельных «светлых голов» вроде Путиловского или дуэта Извеков-Кулебако из «Секретной службы» против придурочных, наивных, но фанатично преданных делу «р-революции» и террору как пути её достижения «эсеровских» русских ребят, разночинцев да студентов, а так же довольно многочисленной группы евреев (главная причина их озлобления на царизм- см. «Черта осёдлости»), среди которых тоже были «суперидейные» вроде Доры Бриллиант, а были и суперхитрецы «и нашим, и вашим, но за деньги», вроде легендарного и исторического Азефа. Ещё более легендарная, особо стоящая фигура, эсер-боевик Борис Савинков- тоже тут, но о нём лучше читать (его мемуары) или смотреть (\"Исчадье ада» (1991); «Всадник по имени Смерть» (2004)). Вот такая вот война, с переменным успехом, ожидает вас в «Империи под ударом», и от неё не оторвёшься! Особенно если учесть, какие прекрасные актёры в ней задействованы, даже в скромных эпизодах- Игорь Ливанов (Путиловский), Никоненко, Пороховщиков, Серебряков, Хабенский, Домогаров Да, ещё отвечу «предыдущему оратору» на «непотребное» состояние реквизита: и тогда не всё было новеньким, с иголочки! Вещи, знаете ли, носились и изнашивались, даже телефоны или же саквояжи, поскольку ими Пользовались! Зато здесь мы видим Свежие номера газет (а не пожелтевшие, как в сериале «Пепел») и ношеные мундиры (а не только что пошитые гимнастёрки из «Последний бой майора Пугачёва»)! Да, забыл задать последний, отнюдь не риторический вопрос для размышления: за последнее время кто-нибудь слышал хоть об одном еврее-террористе? Думается, и не услышите! А почему? Так-то!\n",
            "\r\n",
            "8 из 10\n",
            "[ 15759 317311  48163   4388   8453   8286 137728 224064   1389   2126\n",
            " 259609    118     10   4456    330   2414    560    708  11875     12\n",
            " 259610   4960  18896  65719 224070 197122 713276  26010   9064 713277\n",
            "     82     86  18074 713278 713279 713280   2170  93258   2068   4792\n",
            "     14 107665  58884    804   1088    620 177488 713281     12  28773\n",
            "    981 713282    705 713283    621     34    702  22043   6560  32561\n",
            "     83 713284    375   6433 404870 713285 107666     83    130 713286\n",
            " 713287 713288 197123 404871     82   4702  11311   1165   1700 404872\n",
            "    349  14826   6448     35    219    209   4902    129   6692 404873\n",
            " 317312   6862     19  56084   7052     84      3      1    185      6]\n"
          ],
          "name": "stdout"
        }
      ]
    },
    {
      "cell_type": "code",
      "metadata": {
        "id": "UztnsD0wzA34"
      },
      "source": [
        "x_train, x_test, y_train, y_test = train_test_split(X_pad, Y, test_size = 0.2, random_state = 1)"
      ],
      "execution_count": null,
      "outputs": []
    },
    {
      "cell_type": "code",
      "metadata": {
        "id": "fVcAuBg2zLg8"
      },
      "source": [
        "batch_size = 1024\n",
        "x_train1 = x_train[batch_size:]\n",
        "y_train1 = y_train[batch_size:]\n",
        "x_valid = x_train[:batch_size]\n",
        "y_valid = y_train[:batch_size]"
      ],
      "execution_count": null,
      "outputs": []
    },
    {
      "cell_type": "code",
      "metadata": {
        "id": "PObTm9GazYfQ",
        "colab": {
          "base_uri": "https://localhost:8080/",
          "height": 323
        },
        "outputId": "740210bc-6e17-4f60-da79-b71414245ee3"
      },
      "source": [
        "#построим модель\n",
        "vocabulary_size = len(tk.word_counts.keys())+1\n",
        "max_words = MAX_LEN_SENTENCES\n",
        "\n",
        "embedding_size = 32\n",
        "model = Sequential()\n",
        "model.add(Embedding(vocabulary_size, embedding_size, input_length=max_words))\n",
        "model.add(Dropout(0.3))\n",
        "model.add(LSTM(200))\n",
        "model.add(Dropout(0.5))\n",
        "model.add(Dense(3, activation='softmax'))\n",
        "model.compile(loss='categorical_crossentropy', optimizer='adam', metrics=['accuracy'])\n",
        "\n",
        "model.summary()"
      ],
      "execution_count": null,
      "outputs": [
        {
          "output_type": "stream",
          "text": [
            "Model: \"sequential\"\n",
            "_________________________________________________________________\n",
            "Layer (type)                 Output Shape              Param #   \n",
            "=================================================================\n",
            "embedding (Embedding)        (None, 100, 32)           42595616  \n",
            "_________________________________________________________________\n",
            "dropout (Dropout)            (None, 100, 32)           0         \n",
            "_________________________________________________________________\n",
            "lstm (LSTM)                  (None, 200)               186400    \n",
            "_________________________________________________________________\n",
            "dropout_1 (Dropout)          (None, 200)               0         \n",
            "_________________________________________________________________\n",
            "dense (Dense)                (None, 3)                 603       \n",
            "=================================================================\n",
            "Total params: 42,782,619\n",
            "Trainable params: 42,782,619\n",
            "Non-trainable params: 0\n",
            "_________________________________________________________________\n"
          ],
          "name": "stdout"
        }
      ]
    },
    {
      "cell_type": "code",
      "metadata": {
        "id": "G1AEQhiWzhdE"
      },
      "source": [
        "from tensorflow.keras.callbacks import ModelCheckpoint\n",
        "model_save_path = 'di.h5'\n",
        "checkpoint_callback = ModelCheckpoint(model_save_path, \n",
        "                                      monitor='val_accuracy',\n",
        "                                      save_best_only=True,\n",
        "                                      verbose=1)"
      ],
      "execution_count": null,
      "outputs": []
    },
    {
      "cell_type": "code",
      "metadata": {
        "id": "Sw3716DZ0Dvc",
        "colab": {
          "base_uri": "https://localhost:8080/",
          "height": 241
        },
        "outputId": "e2be61ea-2035-431a-8aa6-cd89d8e5578c"
      },
      "source": [
        "class_weight={0:1,1:4.5,2:8.5}\n",
        "history = model.fit(x_train1,\n",
        "                        y_train1,\n",
        "                        validation_data=(x_valid,y_valid),\n",
        "                        batch_size=batch_size,\n",
        "                        epochs=3,\n",
        "                        class_weight=class_weight,\n",
        "                        callbacks=[checkpoint_callback],\n",
        "                        )"
      ],
      "execution_count": null,
      "outputs": [
        {
          "output_type": "stream",
          "text": [
            "Epoch 1/3\n",
            "62/62 [==============================] - ETA: 0s - loss: 2.3185 - accuracy: 0.4832\n",
            "Epoch 00001: val_accuracy improved from -inf to 0.72461, saving model to di.h5\n",
            "62/62 [==============================] - 202s 3s/step - loss: 2.3185 - accuracy: 0.4832 - val_loss: 0.7741 - val_accuracy: 0.7246\n",
            "Epoch 2/3\n",
            "62/62 [==============================] - ETA: 0s - loss: 1.4781 - accuracy: 0.7743\n",
            "Epoch 00002: val_accuracy improved from 0.72461 to 0.78613, saving model to di.h5\n",
            "62/62 [==============================] - 203s 3s/step - loss: 1.4781 - accuracy: 0.7743 - val_loss: 0.5045 - val_accuracy: 0.7861\n",
            "Epoch 3/3\n",
            "62/62 [==============================] - ETA: 0s - loss: 0.7006 - accuracy: 0.8852\n",
            "Epoch 00003: val_accuracy improved from 0.78613 to 0.83008, saving model to di.h5\n",
            "62/62 [==============================] - 203s 3s/step - loss: 0.7006 - accuracy: 0.8852 - val_loss: 0.4346 - val_accuracy: 0.8301\n"
          ],
          "name": "stdout"
        }
      ]
    },
    {
      "cell_type": "code",
      "metadata": {
        "id": "oMUtiusSAJ1J",
        "colab": {
          "base_uri": "https://localhost:8080/",
          "height": 281
        },
        "outputId": "509df4fd-93b7-47f1-8317-f38f5ae29176"
      },
      "source": [
        "plt.plot(history.history['accuracy'], \n",
        "         label='Predicted on training')\n",
        "plt.plot(history.history['val_accuracy'], \n",
        "         label='Predicted on testing')\n",
        "plt.xlabel('Learning epoch')\n",
        "plt.ylabel('Predicted')\n",
        "plt.legend()\n",
        "plt.show()"
      ],
      "execution_count": null,
      "outputs": [
        {
          "output_type": "display_data",
          "data": {
            "image/png": "[encoded data removed]",
            "text/plain": [
              "<Figure size 432x288 with 1 Axes>"
            ]
          },
          "metadata": {
            "tags": [],
            "needs_background": "light"
          }
        }
      ]
    },
    {
      "cell_type": "code",
      "metadata": {
        "id": "D_hMdTKwBFi6"
      },
      "source": [
        "model.load_weights(model_save_path)"
      ],
      "execution_count": null,
      "outputs": []
    },
    {
      "cell_type": "markdown",
      "metadata": {
        "id": "VxCHV04EMeEy"
      },
      "source": [
        "**5. Оценка LSTM моедли**"
      ]
    },
    {
      "cell_type": "code",
      "metadata": {
        "id": "4RcuCngeBOIh",
        "colab": {
          "base_uri": "https://localhost:8080/",
          "height": 275
        },
        "outputId": "ee9b4458-1880-4295-835b-3c16031428a4"
      },
      "source": [
        "y_pred_train=model.predict(x_train)\n",
        "y_pred_train = y_pred_train > 0.5\n",
        "\n",
        "print()\n",
        "print(metrics.classification_report(y_train, y_pred_train, digits=3))\n"
      ],
      "execution_count": null,
      "outputs": [
        {
          "output_type": "stream",
          "text": [
            "\n",
            "              precision    recall  f1-score   support\n",
            "\n",
            "           0      0.993     0.961     0.977     48140\n",
            "           1      0.851     0.942     0.894     10235\n",
            "           2      0.966     0.988     0.977      5852\n",
            "\n",
            "   micro avg      0.965     0.961     0.963     64227\n",
            "   macro avg      0.937     0.964     0.949     64227\n",
            "weighted avg      0.968     0.961     0.964     64227\n",
            " samples avg      0.961     0.961     0.961     64227\n",
            "\n"
          ],
          "name": "stdout"
        },
        {
          "output_type": "stream",
          "text": [
            "/usr/local/lib/python3.6/dist-packages/sklearn/metrics/_classification.py:1272: UndefinedMetricWarning: Precision and F-score are ill-defined and being set to 0.0 in samples with no predicted labels. Use `zero_division` parameter to control this behavior.\n",
            "  _warn_prf(average, modifier, msg_start, len(result))\n"
          ],
          "name": "stderr"
        }
      ]
    },
    {
      "cell_type": "code",
      "metadata": {
        "id": "QkYreWDSCFQd",
        "colab": {
          "base_uri": "https://localhost:8080/",
          "height": 258
        },
        "outputId": "70c65c6f-f2b2-4976-af30-8b82ea530ec2"
      },
      "source": [
        "y_pred_test=model.predict(x_test)\n",
        "y_pred_test = y_pred_test > 0.5\n",
        "print(metrics.classification_report(y_test, y_pred_test, digits=3))"
      ],
      "execution_count": null,
      "outputs": [
        {
          "output_type": "stream",
          "text": [
            "              precision    recall  f1-score   support\n",
            "\n",
            "           0      0.943     0.874     0.907     12049\n",
            "           1      0.524     0.682     0.593      2579\n",
            "           2      0.810     0.703     0.753      1429\n",
            "\n",
            "   micro avg      0.843     0.828     0.835     16057\n",
            "   macro avg      0.759     0.753     0.751     16057\n",
            "weighted avg      0.864     0.828     0.843     16057\n",
            " samples avg      0.828     0.828     0.828     16057\n",
            "\n"
          ],
          "name": "stdout"
        },
        {
          "output_type": "stream",
          "text": [
            "/usr/local/lib/python3.6/dist-packages/sklearn/metrics/_classification.py:1272: UndefinedMetricWarning: Precision and F-score are ill-defined and being set to 0.0 in samples with no predicted labels. Use `zero_division` parameter to control this behavior.\n",
            "  _warn_prf(average, modifier, msg_start, len(result))\n"
          ],
          "name": "stderr"
        }
      ]
    }
  ]
}